{
 "cells": [
  {
   "cell_type": "code",
   "execution_count": 8,
   "metadata": {},
   "outputs": [
    {
     "name": "stdout",
     "output_type": "stream",
     "text": [
      "[1, 4, 8, 11]\n"
     ]
    }
   ],
   "source": [
    "def recursive_activity_selector(s,f,k,n):\n",
    "    m = k+1\n",
    "    while m <= n and s[m] < f[k]:\n",
    "        m = m + 1\n",
    "    if m <= n:\n",
    "        return [m] + recursive_activity_selector(s,f,m,n)\n",
    "    else:\n",
    "        return []\n",
    "    \n",
    "s = [0,1,3,0,5,3,5,6,8,8,2,12]\n",
    "f = [0,4,5,6,7,9,9,10,11,12,14,16]\n",
    "print(recursive_activity_selector(s,f,k,n))\n"
   ]
  }
 ],
 "metadata": {
  "kernelspec": {
   "display_name": "Python 3",
   "language": "python",
   "name": "python3"
  },
  "language_info": {
   "codemirror_mode": {
    "name": "ipython",
    "version": 3
   },
   "file_extension": ".py",
   "mimetype": "text/x-python",
   "name": "python",
   "nbconvert_exporter": "python",
   "pygments_lexer": "ipython3",
   "version": "3.11.0"
  }
 },
 "nbformat": 4,
 "nbformat_minor": 2
}
