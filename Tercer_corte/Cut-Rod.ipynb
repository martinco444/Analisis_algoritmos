{
 "cells": [
  {
   "cell_type": "markdown",
   "metadata": {},
   "source": [
    "Con recursividad:\n"
   ]
  },
  {
   "cell_type": "code",
   "execution_count": null,
   "metadata": {},
   "outputs": [
    {
     "name": "stdout",
     "output_type": "stream",
     "text": [
      "para 1 el resultado es:  1\n",
      "para 2 el resultado es:  5\n",
      "para 3 el resultado es:  8\n",
      "para 4 el resultado es:  10\n",
      "para 5 el resultado es:  13\n",
      "para 6 el resultado es:  17\n",
      "para 7 el resultado es:  18\n",
      "para 8 el resultado es:  22\n",
      "para 9 el resultado es:  25\n",
      "para 10 el resultado es:  30\n"
     ]
    }
   ],
   "source": [
    "def cut_rod(p, n):\n",
    "    if n == 0:\n",
    "        return 0\n",
    "    \n",
    "    q = -10000000\n",
    "    \n",
    "    for i in range(1, n + 1):\n",
    "        q = max(q, p[i] + cut_rod(p, n - i))\n",
    "    return q\n",
    "\n",
    "p = [0, 1, 5, 8, 9, 10, 17, 17, 20, 24, 30]\n",
    "n = [1, 2, 3, 4, 5, 6, 7, 8, 9, 10]\n",
    "\n",
    "for i in range(len(n)):\n",
    "    print(\"para\", n[i] ,\"el resultado es: \", cut_rod(p, n[i]))"
   ]
  },
  {
   "cell_type": "markdown",
   "metadata": {},
   "source": [
    "Con programación dinámica:\n",
    "Memorizar las soluciones de los subproblemas"
   ]
  },
  {
   "cell_type": "code",
   "execution_count": null,
   "metadata": {},
   "outputs": [
    {
     "name": "stdout",
     "output_type": "stream",
     "text": [
      "para 1 el resultado es:  1\n",
      "para 2 el resultado es:  5\n",
      "para 3 el resultado es:  8\n",
      "para 4 el resultado es:  10\n",
      "para 5 el resultado es:  13\n",
      "para 6 el resultado es:  17\n",
      "para 7 el resultado es:  18\n",
      "para 8 el resultado es:  22\n",
      "para 9 el resultado es:  25\n",
      "para 10 el resultado es:  30\n"
     ]
    }
   ],
   "source": [
    "def memoized_cut_rod(p, n):\n",
    "    r = [-10000000] * (n + 1)\n",
    "    return memoized_cut_rod_aux(p, n, r)\n",
    "\n",
    "def memoized_cut_rod_aux(p, n, r):\n",
    "    if r[n] >= 0:\n",
    "        return r[n]\n",
    "    if n == 0:\n",
    "        q = 0\n",
    "    else:\n",
    "        q = -10000000\n",
    "        for i in range(1, n + 1):\n",
    "            q = max(q, p[i] + memoized_cut_rod_aux(p, n - i, r))\n",
    "    r[n] = q\n",
    "    return q\n",
    "\n",
    "p = [0, 1, 5, 8, 9, 10, 17, 17, 20, 24, 30]\n",
    "n = [1, 2, 3, 4, 5, 6, 7, 8, 9, 10]\n",
    "\n",
    "for i in range(len(n)):\n",
    "    print(\"para\", n[i],\"el resultado es: \", memoized_cut_rod(p, n[i]))"
   ]
  }
 ],
 "metadata": {
  "kernelspec": {
   "display_name": "Python 3",
   "language": "python",
   "name": "python3"
  },
  "language_info": {
   "codemirror_mode": {
    "name": "ipython",
    "version": 3
   },
   "file_extension": ".py",
   "mimetype": "text/x-python",
   "name": "python",
   "nbconvert_exporter": "python",
   "pygments_lexer": "ipython3",
   "version": "3.11.0"
  }
 },
 "nbformat": 4,
 "nbformat_minor": 2
}
