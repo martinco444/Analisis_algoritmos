{
 "cells": [
  {
   "cell_type": "code",
   "execution_count": 45,
   "metadata": {},
   "outputs": [],
   "source": [
    "def karatsuba(x, y):\n",
    "    x = int(x)\n",
    "    y = int(y)\n",
    "    \n",
    "    if x < 10 or y < 10:\n",
    "        return x * y\n",
    "\n",
    "    n = max(len(str(x)), len(str(y)))\n",
    "    m = n // 2\n",
    "\n",
    "    x1, x0 = divmod(x, 10**m)\n",
    "    y1, y0 = divmod(y, 10**m)\n",
    "\n",
    "    z0 = karatsuba(str(x1), str(y1))\n",
    "    z1 = karatsuba(str(x0), str(y0))\n",
    "    z2 = karatsuba(str(x1 + x0), str(y1 + y0)) - z0 - z1\n",
    "\n",
    "    return (z0 * 10**(2*m)) + (z2 * 10**m) + z1\n",
    "\n"
   ]
  },
  {
   "cell_type": "code",
   "execution_count": 51,
   "metadata": {},
   "outputs": [
    {
     "name": "stdout",
     "output_type": "stream",
     "text": [
      "el resultado de la multiplicacion usando karatsuba es: 14303698\n"
     ]
    }
   ],
   "source": [
    "print(\"el resultado de la multiplicacion usando karatsuba es:\",karatsuba(1598, 8951))"
   ]
  }
 ],
 "metadata": {
  "kernelspec": {
   "display_name": "Python 3",
   "language": "python",
   "name": "python3"
  },
  "language_info": {
   "codemirror_mode": {
    "name": "ipython",
    "version": 3
   },
   "file_extension": ".py",
   "mimetype": "text/x-python",
   "name": "python",
   "nbconvert_exporter": "python",
   "pygments_lexer": "ipython3",
   "version": "3.11.0"
  }
 },
 "nbformat": 4,
 "nbformat_minor": 2
}
